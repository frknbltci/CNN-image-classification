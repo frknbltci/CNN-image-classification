{
 "cells": [
  {
   "cell_type": "markdown",
   "metadata": {},
   "source": [
    "## Requirements\n"
   ]
  },
  {
   "cell_type": "code",
   "execution_count": 1,
   "metadata": {
    "scrolled": true
   },
   "outputs": [
    {
     "name": "stderr",
     "output_type": "stream",
     "text": [
      "Using TensorFlow backend.\n"
     ]
    }
   ],
   "source": [
    "import cv2\n",
    "import numpy as np\n",
    "from keras.models import Sequential\n",
    "from keras.layers import Dense,Activation,Conv2D,Dropout,MaxPooling2D,Flatten\n",
    "from keras.optimizers import *\n",
    "import os\n",
    "from keras.models import load_model\n",
    "import seaborn as sns \n",
    "from keras import metrics\n",
    "\n",
    "import numpy as np\n",
    "#Analiz görselleştrime için;\n",
    "import matplotlib.pyplot as plt\n",
    "%matplotlib inline\n"
   ]
  },
  {
   "cell_type": "markdown",
   "metadata": {},
   "source": [
    "## Get Images"
   ]
  },
  {
   "cell_type": "code",
   "execution_count": 2,
   "metadata": {
    "scrolled": true
   },
   "outputs": [
    {
     "ename": "KeyboardInterrupt",
     "evalue": "",
     "output_type": "error",
     "traceback": [
      "\u001b[1;31m---------------------------------------------------------------------------\u001b[0m",
      "\u001b[1;31mKeyboardInterrupt\u001b[0m                         Traceback (most recent call last)",
      "\u001b[1;32m<ipython-input-2-663b7fe4b11d>\u001b[0m in \u001b[0;36m<module>\u001b[1;34m\u001b[0m\n\u001b[0;32m     13\u001b[0m         \u001b[0mimage\u001b[0m \u001b[1;33m=\u001b[0m \u001b[0mcv2\u001b[0m\u001b[1;33m.\u001b[0m\u001b[0mimread\u001b[0m\u001b[1;33m(\u001b[0m\u001b[0mos\u001b[0m\u001b[1;33m.\u001b[0m\u001b[0mpath\u001b[0m\u001b[1;33m.\u001b[0m\u001b[0mjoin\u001b[0m\u001b[1;33m(\u001b[0m\u001b[0mpath\u001b[0m\u001b[1;33m,\u001b[0m\u001b[0mimg\u001b[0m\u001b[1;33m)\u001b[0m\u001b[1;33m)\u001b[0m\u001b[1;33m\u001b[0m\u001b[1;33m\u001b[0m\u001b[0m\n\u001b[0;32m     14\u001b[0m         \u001b[0mnewImg\u001b[0m \u001b[1;33m=\u001b[0m \u001b[0mcv2\u001b[0m\u001b[1;33m.\u001b[0m\u001b[0mresize\u001b[0m\u001b[1;33m(\u001b[0m\u001b[0mimage\u001b[0m\u001b[1;33m,\u001b[0m\u001b[1;33m(\u001b[0m\u001b[0mimg_size\u001b[0m\u001b[1;33m,\u001b[0m\u001b[0mimg_size\u001b[0m\u001b[1;33m)\u001b[0m\u001b[1;33m)\u001b[0m\u001b[1;33m\u001b[0m\u001b[1;33m\u001b[0m\u001b[0m\n\u001b[1;32m---> 15\u001b[1;33m         \u001b[0minputData\u001b[0m \u001b[1;33m=\u001b[0m \u001b[0mnp\u001b[0m\u001b[1;33m.\u001b[0m\u001b[0mappend\u001b[0m\u001b[1;33m(\u001b[0m\u001b[0minputData\u001b[0m\u001b[1;33m,\u001b[0m\u001b[0mnewImg\u001b[0m\u001b[1;33m)\u001b[0m\u001b[1;33m\u001b[0m\u001b[1;33m\u001b[0m\u001b[0m\n\u001b[0m\u001b[0;32m     16\u001b[0m         \u001b[0moutput\u001b[0m \u001b[1;33m=\u001b[0m \u001b[0mnp\u001b[0m\u001b[1;33m.\u001b[0m\u001b[0mappend\u001b[0m\u001b[1;33m(\u001b[0m\u001b[0moutput\u001b[0m\u001b[1;33m,\u001b[0m\u001b[0mout\u001b[0m\u001b[1;33m,\u001b[0m \u001b[0maxis\u001b[0m\u001b[1;33m=\u001b[0m\u001b[1;36m0\u001b[0m\u001b[1;33m)\u001b[0m\u001b[1;33m\u001b[0m\u001b[1;33m\u001b[0m\u001b[0m\n\u001b[0;32m     17\u001b[0m \u001b[1;33m\u001b[0m\u001b[0m\n",
      "\u001b[1;32m~\\AppData\\Local\\Continuum\\anaconda3\\lib\\site-packages\\numpy\\lib\\function_base.py\u001b[0m in \u001b[0;36mappend\u001b[1;34m(arr, values, axis)\u001b[0m\n\u001b[0;32m   4526\u001b[0m         \u001b[0mvalues\u001b[0m \u001b[1;33m=\u001b[0m \u001b[0mravel\u001b[0m\u001b[1;33m(\u001b[0m\u001b[0mvalues\u001b[0m\u001b[1;33m)\u001b[0m\u001b[1;33m\u001b[0m\u001b[1;33m\u001b[0m\u001b[0m\n\u001b[0;32m   4527\u001b[0m         \u001b[0maxis\u001b[0m \u001b[1;33m=\u001b[0m \u001b[0marr\u001b[0m\u001b[1;33m.\u001b[0m\u001b[0mndim\u001b[0m\u001b[1;33m-\u001b[0m\u001b[1;36m1\u001b[0m\u001b[1;33m\u001b[0m\u001b[1;33m\u001b[0m\u001b[0m\n\u001b[1;32m-> 4528\u001b[1;33m     \u001b[1;32mreturn\u001b[0m \u001b[0mconcatenate\u001b[0m\u001b[1;33m(\u001b[0m\u001b[1;33m(\u001b[0m\u001b[0marr\u001b[0m\u001b[1;33m,\u001b[0m \u001b[0mvalues\u001b[0m\u001b[1;33m)\u001b[0m\u001b[1;33m,\u001b[0m \u001b[0maxis\u001b[0m\u001b[1;33m=\u001b[0m\u001b[0maxis\u001b[0m\u001b[1;33m)\u001b[0m\u001b[1;33m\u001b[0m\u001b[1;33m\u001b[0m\u001b[0m\n\u001b[0m",
      "\u001b[1;31mKeyboardInterrupt\u001b[0m: "
     ]
    }
   ],
   "source": [
    "DATADIR = \"C:\\\\Users\\\\fbalt\\\\Desktop\\\\FinalTeziGelistirme\"\n",
    "CATEGORIES = [\"dog\",\"cat\",\"motorbike\",\"carimages\",\"ImagesPs\"]\n",
    "inputData = np.array([])\n",
    "output = np.ndarray(shape=(0,len(CATEGORIES)),dtype=int)\n",
    "img_size=184\n",
    "\n",
    "for category in CATEGORIES:\n",
    "    classNum = CATEGORIES.index(category)\n",
    "    out = np.zeros((1,len(CATEGORIES)))\n",
    "    out[0][classNum] = 1\n",
    "    path = os.path.join(DATADIR, category)\n",
    "    for img in os.scandir(path):\n",
    "        image = cv2.imread(os.path.join(path,img)) \n",
    "        newImg = cv2.resize(image,(img_size,img_size))\n",
    "        inputData = np.append(inputData,newImg)\n",
    "        output = np.append(output,out, axis=0)\n",
    "        \n",
    "\n",
    "\n",
    "\n",
    "print(inputData.shape)\n",
    "\n",
    "inputData=np.reshape(inputData,(-1,img_size,img_size,3))\n",
    "np.save(\"inputs\",inputData)\n",
    "np.save(\"outputs\",output)\n",
    "#https://stackoverflow.com/questions/50306863/valueerror-cannot-reshape-array-of-size-50176-into-shape-1-224-224-3\n",
    "print(inputData.shape)\n",
    "print(output.shape)"
   ]
  },
  {
   "cell_type": "markdown",
   "metadata": {},
   "source": [
    "## Inputs and Outputs Define"
   ]
  },
  {
   "cell_type": "code",
   "execution_count": 2,
   "metadata": {},
   "outputs": [],
   "source": [
    "inputData=np.load(\"inputs.npy\");\n",
    "outputData=np.load(\"outputs.npy\");"
   ]
  },
  {
   "cell_type": "code",
   "execution_count": 3,
   "metadata": {},
   "outputs": [
    {
     "name": "stdout",
     "output_type": "stream",
     "text": [
      "(3160, 184, 184, 3)\n",
      "[[1. 0. 0. 0. 0.]\n",
      " [1. 0. 0. 0. 0.]\n",
      " [1. 0. 0. 0. 0.]\n",
      " ...\n",
      " [0. 0. 0. 0. 1.]\n",
      " [0. 0. 0. 0. 1.]\n",
      " [0. 0. 0. 0. 1.]]\n",
      "(3160, 5)\n"
     ]
    }
   ],
   "source": [
    "print(inputData.shape)\n",
    "print(outputData)\n",
    "print(outputData.shape)"
   ]
  },
  {
   "cell_type": "markdown",
   "metadata": {},
   "source": [
    "## Definition Validation Split Data"
   ]
  },
  {
   "cell_type": "code",
   "execution_count": null,
   "metadata": {},
   "outputs": [],
   "source": [
    "DATADIR = \"C:\\\\Users\\\\fbalt\\\\Desktop\\\\FinalTeziGelistirme\\\\testImages\"\n",
    "CATEGORIES = [\"testDog\",\"testCat\",\"testMotorbike\",\"testCar\",\"testPs\"]\n",
    "splitInput = np.array([])\n",
    "splitOutput = np.ndarray(shape=(0,len(CATEGORIES)),dtype=int)\n",
    "img_size=184\n",
    "\n",
    "for category in CATEGORIES:\n",
    "    classNum = CATEGORIES.index(category)\n",
    "    out = np.zeros((1,len(CATEGORIES)))\n",
    "    out[0][classNum] = 1\n",
    "    path = os.path.join(DATADIR, category)\n",
    "    for img in os.scandir(path):\n",
    "        image = cv2.imread(os.path.join(path,img)) \n",
    "        newImg = cv2.resize(image,(img_size,img_size))\n",
    "        splitInput = np.append(splitInput,newImg)\n",
    "        splitOutput = np.append(splitOutput,out, axis=0)\n",
    "        \n",
    "    \n",
    "    \n",
    "\n",
    "splitInput=np.reshape(splitInput,(-1,img_size,img_size,3))\n",
    "\n",
    "np.save(\"splitInputs\",splitInput)\n",
    "np.save(\"splitOutputs\",splitOutput)\n",
    "\n",
    "\n",
    "\n"
   ]
  },
  {
   "cell_type": "code",
   "execution_count": 3,
   "metadata": {},
   "outputs": [
    {
     "name": "stdout",
     "output_type": "stream",
     "text": [
      "(539, 184, 184, 3)\n",
      "(539, 5)\n"
     ]
    }
   ],
   "source": [
    "splitInput=np.load(\"splitInputs.npy\");\n",
    "splitOutput=np.load(\"splitOutputs.npy\");\n",
    "print(splitInput.shape)\n",
    "print(splitOutput.shape)"
   ]
  },
  {
   "cell_type": "markdown",
   "metadata": {},
   "source": [
    "## Create Model\n"
   ]
  },
  {
   "cell_type": "code",
   "execution_count": 37,
   "metadata": {
    "scrolled": false
   },
   "outputs": [
    {
     "name": "stdout",
     "output_type": "stream",
     "text": [
      "_________________________________________________________________\n",
      "Layer (type)                 Output Shape              Param #   \n",
      "=================================================================\n",
      "conv2d_16 (Conv2D)           (None, 182, 182, 32)      896       \n",
      "_________________________________________________________________\n",
      "max_pooling2d_11 (MaxPooling (None, 91, 91, 32)        0         \n",
      "_________________________________________________________________\n",
      "conv2d_17 (Conv2D)           (None, 89, 89, 64)        18496     \n",
      "_________________________________________________________________\n",
      "max_pooling2d_12 (MaxPooling (None, 44, 44, 64)        0         \n",
      "_________________________________________________________________\n",
      "conv2d_18 (Conv2D)           (None, 42, 42, 64)        36928     \n",
      "_________________________________________________________________\n",
      "flatten_6 (Flatten)          (None, 112896)            0         \n",
      "_________________________________________________________________\n",
      "dense_11 (Dense)             (None, 64)                7225408   \n",
      "_________________________________________________________________\n",
      "dropout_6 (Dropout)          (None, 64)                0         \n",
      "_________________________________________________________________\n",
      "dense_12 (Dense)             (None, 5)                 325       \n",
      "_________________________________________________________________\n",
      "activation_6 (Activation)    (None, 5)                 0         \n",
      "=================================================================\n",
      "Total params: 7,282,053\n",
      "Trainable params: 7,282,053\n",
      "Non-trainable params: 0\n",
      "_________________________________________________________________\n",
      "Train on 3160 samples, validate on 539 samples\n",
      "Epoch 1/50\n",
      "3160/3160 [==============================] - 53s 17ms/step - loss: 1.0300 - acc: 0.6016 - val_loss: 5.1365 - val_acc: 0.6660\n",
      "Epoch 2/50\n",
      "3160/3160 [==============================] - 51s 16ms/step - loss: 0.5697 - acc: 0.7563 - val_loss: 3.8716 - val_acc: 0.7570\n",
      "Epoch 3/50\n",
      "3160/3160 [==============================] - 51s 16ms/step - loss: 0.4760 - acc: 0.7987 - val_loss: 3.5552 - val_acc: 0.7774\n",
      "Epoch 4/50\n",
      "3160/3160 [==============================] - 51s 16ms/step - loss: 0.3031 - acc: 0.8722 - val_loss: 2.0742 - val_acc: 0.8683\n",
      "Epoch 5/50\n",
      "3160/3160 [==============================] - 51s 16ms/step - loss: 0.2498 - acc: 0.8953 - val_loss: 2.1837 - val_acc: 0.8646\n",
      "Epoch 6/50\n",
      "3160/3160 [==============================] - 55s 17ms/step - loss: 0.2167 - acc: 0.9184 - val_loss: 2.7321 - val_acc: 0.8293\n",
      "Epoch 7/50\n",
      "3160/3160 [==============================] - 56s 18ms/step - loss: 0.1437 - acc: 0.9396 - val_loss: 1.9920 - val_acc: 0.8738\n",
      "Epoch 8/50\n",
      "3160/3160 [==============================] - 57s 18ms/step - loss: 0.1086 - acc: 0.9592 - val_loss: 1.4354 - val_acc: 0.9109\n",
      "Epoch 9/50\n",
      "3160/3160 [==============================] - 70s 22ms/step - loss: 0.0814 - acc: 0.9744 - val_loss: 1.4955 - val_acc: 0.9072\n",
      "Epoch 10/50\n",
      "3160/3160 [==============================] - 68s 22ms/step - loss: 0.0766 - acc: 0.9718 - val_loss: 1.3926 - val_acc: 0.9128\n",
      "Epoch 11/50\n",
      "3160/3160 [==============================] - 62s 20ms/step - loss: 0.0727 - acc: 0.9737 - val_loss: 1.8497 - val_acc: 0.8813\n",
      "Epoch 12/50\n",
      "3160/3160 [==============================] - 65s 20ms/step - loss: 0.0840 - acc: 0.9725 - val_loss: 4.5285 - val_acc: 0.7143\n",
      "Epoch 13/50\n",
      "3160/3160 [==============================] - 70s 22ms/step - loss: 0.0543 - acc: 0.9788 - val_loss: 1.2435 - val_acc: 0.9221\n",
      "Epoch 14/50\n",
      "3160/3160 [==============================] - 57s 18ms/step - loss: 0.0336 - acc: 0.9902 - val_loss: 1.4160 - val_acc: 0.9109\n",
      "Epoch 15/50\n",
      "3160/3160 [==============================] - 71s 23ms/step - loss: 0.0379 - acc: 0.9889 - val_loss: 1.5550 - val_acc: 0.9035\n",
      "Epoch 16/50\n",
      "3160/3160 [==============================] - 56s 18ms/step - loss: 0.0332 - acc: 0.9883 - val_loss: 1.3457 - val_acc: 0.9165\n",
      "Epoch 17/50\n",
      "3160/3160 [==============================] - 69s 22ms/step - loss: 0.0569 - acc: 0.9829 - val_loss: 1.5548 - val_acc: 0.9035\n",
      "Epoch 18/50\n",
      "3160/3160 [==============================] - 62s 19ms/step - loss: 0.0545 - acc: 0.9829 - val_loss: 1.6425 - val_acc: 0.8980\n",
      "Epoch 19/50\n",
      "3160/3160 [==============================] - 69s 22ms/step - loss: 0.0555 - acc: 0.9782 - val_loss: 1.0466 - val_acc: 0.9351\n",
      "Epoch 20/50\n",
      "3160/3160 [==============================] - 72s 23ms/step - loss: 0.0190 - acc: 0.9946 - val_loss: 1.7768 - val_acc: 0.8887\n",
      "Epoch 21/50\n",
      "3160/3160 [==============================] - 57s 18ms/step - loss: 0.0215 - acc: 0.9915 - val_loss: 1.2859 - val_acc: 0.9202\n",
      "Epoch 22/50\n",
      "3160/3160 [==============================] - 69s 22ms/step - loss: 0.0169 - acc: 0.9956 - val_loss: 1.1961 - val_acc: 0.9258\n",
      "Epoch 23/50\n",
      "3160/3160 [==============================] - 74s 23ms/step - loss: 0.0234 - acc: 0.9937 - val_loss: 0.8876 - val_acc: 0.9443\n",
      "Epoch 24/50\n",
      "3160/3160 [==============================] - 69s 22ms/step - loss: 0.0234 - acc: 0.9915 - val_loss: 1.1662 - val_acc: 0.9276\n",
      "Epoch 25/50\n",
      "3160/3160 [==============================] - 60s 19ms/step - loss: 0.0478 - acc: 0.9832 - val_loss: 1.4963 - val_acc: 0.9072\n",
      "Epoch 26/50\n",
      "3160/3160 [==============================] - 71s 22ms/step - loss: 0.0331 - acc: 0.9902 - val_loss: 1.7942 - val_acc: 0.8887\n",
      "Epoch 27/50\n",
      "3160/3160 [==============================] - 71s 22ms/step - loss: 0.0352 - acc: 0.9889 - val_loss: 1.4653 - val_acc: 0.9091\n",
      "Epoch 28/50\n",
      "3160/3160 [==============================] - 75s 24ms/step - loss: 0.0510 - acc: 0.9854 - val_loss: 1.8839 - val_acc: 0.8831\n",
      "Epoch 29/50\n",
      "3160/3160 [==============================] - 61s 19ms/step - loss: 0.0228 - acc: 0.9927 - val_loss: 1.1790 - val_acc: 0.9239\n",
      "Epoch 30/50\n",
      "3160/3160 [==============================] - 68s 21ms/step - loss: 0.0235 - acc: 0.9911 - val_loss: 1.0765 - val_acc: 0.9332\n",
      "Epoch 31/50\n",
      "3160/3160 [==============================] - 75s 24ms/step - loss: 0.0200 - acc: 0.9930 - val_loss: 1.1966 - val_acc: 0.9258\n",
      "Epoch 32/50\n",
      "3160/3160 [==============================] - 72s 23ms/step - loss: 0.0107 - acc: 0.9968 - val_loss: 1.2859 - val_acc: 0.9202\n",
      "Epoch 33/50\n",
      "3160/3160 [==============================] - 68s 21ms/step - loss: 0.0163 - acc: 0.9959 - val_loss: 1.3756 - val_acc: 0.9147\n",
      "Epoch 34/50\n",
      "3160/3160 [==============================] - 64s 20ms/step - loss: 0.0323 - acc: 0.9896 - val_loss: 1.1468 - val_acc: 0.9276\n",
      "Epoch 35/50\n",
      "3160/3160 [==============================] - 72s 23ms/step - loss: 0.0659 - acc: 0.9804 - val_loss: 1.5359 - val_acc: 0.9035\n",
      "Epoch 36/50\n",
      "3160/3160 [==============================] - 74s 23ms/step - loss: 0.0273 - acc: 0.9918 - val_loss: 2.1847 - val_acc: 0.8609\n",
      "Epoch 37/50\n",
      "3160/3160 [==============================] - 76s 24ms/step - loss: 0.0138 - acc: 0.9949 - val_loss: 1.2859 - val_acc: 0.9202\n",
      "Epoch 38/50\n",
      "3160/3160 [==============================] - 63s 20ms/step - loss: 0.0097 - acc: 0.9968 - val_loss: 1.5107 - val_acc: 0.9054\n",
      "Epoch 39/50\n",
      "3160/3160 [==============================] - 66s 21ms/step - loss: 0.0180 - acc: 0.9943 - val_loss: 1.9143 - val_acc: 0.8813\n",
      "Epoch 40/50\n",
      "3160/3160 [==============================] - 74s 23ms/step - loss: 0.0149 - acc: 0.9953 - val_loss: 1.1511 - val_acc: 0.9276\n",
      "Epoch 41/50\n",
      "3160/3160 [==============================] - 75s 24ms/step - loss: 0.0098 - acc: 0.9981 - val_loss: 1.4653 - val_acc: 0.9091\n",
      "Epoch 42/50\n",
      "3160/3160 [==============================] - 71s 22ms/step - loss: 0.0197 - acc: 0.9946 - val_loss: 1.3158 - val_acc: 0.9184\n",
      "Epoch 43/50\n",
      "3160/3160 [==============================] - 66s 21ms/step - loss: 0.0328 - acc: 0.9889 - val_loss: 1.1064 - val_acc: 0.9314\n",
      "Epoch 44/50\n",
      "3160/3160 [==============================] - 74s 23ms/step - loss: 0.0244 - acc: 0.9930 - val_loss: 1.2625 - val_acc: 0.9202\n",
      "Epoch 45/50\n",
      "3160/3160 [==============================] - 76s 24ms/step - loss: 0.0102 - acc: 0.9968 - val_loss: 2.7057 - val_acc: 0.8293\n",
      "Epoch 46/50\n",
      "3160/3160 [==============================] - 75s 24ms/step - loss: 0.0482 - acc: 0.9854 - val_loss: 1.1961 - val_acc: 0.9258\n",
      "Epoch 47/50\n",
      "3160/3160 [==============================] - 64s 20ms/step - loss: 0.0533 - acc: 0.9854 - val_loss: 1.7942 - val_acc: 0.8887\n",
      "Epoch 48/50\n",
      "3160/3160 [==============================] - 70s 22ms/step - loss: 0.0228 - acc: 0.9953 - val_loss: 1.7655 - val_acc: 0.8905\n",
      "Epoch 49/50\n",
      "3160/3160 [==============================] - 75s 24ms/step - loss: 0.0127 - acc: 0.9953 - val_loss: 1.7517 - val_acc: 0.8887\n",
      "Epoch 50/50\n",
      "3160/3160 [==============================] - 78s 25ms/step - loss: 0.0118 - acc: 0.9968 - val_loss: 1.5849 - val_acc: 0.9017\n"
     ]
    }
   ],
   "source": [
    "img_size=184\n",
    "\n",
    "model = Sequential()\n",
    "model.add(Conv2D(32,(3,3), input_shape=(img_size,img_size,3),activation='relu'))\n",
    "model.add(MaxPooling2D((2,2)))\n",
    "model.add(Conv2D(64,(3,3),activation='relu'))\n",
    "model.add(MaxPooling2D((2,2)))\n",
    "model.add(Conv2D(64,(3,3),activation='relu'))\n",
    "\n",
    "model.add(Flatten())\n",
    "\n",
    "model.add(Dense(64,activation='relu'))\n",
    "model.add(Dropout(0.3))\n",
    "\n",
    "model.add(Dense(5))\n",
    "model.add(Activation('softmax'))\n",
    "\n",
    "\n",
    "model.compile(loss=\"categorical_crossentropy\", optimizer='adam', metrics=['accuracy'])\n",
    "model.summary()\n",
    "inputData = inputData.reshape((-1,img_size, img_size, 3))\n",
    "\n",
    "k=model.fit(inputData/255,outputData,batch_size=32,epochs=50,validation_data=(splitInput,splitOutput))\n",
    "\n",
    "trainLoss=k.history['loss']\n",
    "valLoss=k.history['val_loss']\n",
    "trainAcc=k.history['acc']\n",
    "valAcc=k.history['val_acc']\n",
    "\n",
    "\n",
    "from numpy import save\n",
    "\n",
    "\n",
    "save('trainLossForEpoch50.npy', trainLoss)\n",
    "save('valLoss50.npy', valLoss)\n",
    "save('trainAcc50.npy', trainAcc)\n",
    "save('valAcc50.npy', valAcc)\n",
    "\n",
    "model.save(\"fourthModelEpoch10\")"
   ]
  },
  {
   "cell_type": "code",
   "execution_count": 54,
   "metadata": {},
   "outputs": [],
   "source": [
    "from numpy import load\n",
    "\n",
    "trainLoss=load('trainLossForEpoch50.npy')\n",
    "valLoss=load('valLoss50.npy')\n",
    "trainAcc=load('trainAcc50.npy')\n",
    "valAcc=load('valAcc50.npy')\n"
   ]
  },
  {
   "cell_type": "code",
   "execution_count": 55,
   "metadata": {},
   "outputs": [
    {
     "data": {
      "image/png": "[encoded data removed]",
      "text/plain": [
       "<Figure size 432x288 with 1 Axes>"
      ]
     },
     "metadata": {
      "needs_background": "light"
     },
     "output_type": "display_data"
    },
    {
     "data": {
      "image/png": "[encoded data removed]",
      "text/plain": [
       "<Figure size 432x288 with 1 Axes>"
      ]
     },
     "metadata": {
      "needs_background": "light"
     },
     "output_type": "display_data"
    }
   ],
   "source": [
    "\n",
    "\n",
    "\n",
    "#new trainLoss plotting\n",
    "\n",
    "plt.plot(newTrainLoss)\n",
    "plt.plot(newValLoss)\n",
    "plt.title('model loss')\n",
    "plt.ylabel('loss')\n",
    "plt.xlabel('epoch')\n",
    "plt.legend(['train', 'test'], loc='upper left')\n",
    "plt.show()\n",
    "\n",
    "#\n",
    "\n",
    "plt.plot(trainAcc)\n",
    "plt.plot(valAcc)\n",
    "plt.title('model accu')\n",
    "plt.ylabel('loss')\n",
    "plt.xlabel('epoch')\n",
    "plt.legend(['train', 'test'], loc='upper left')\n",
    "plt.show()\n",
    "\n",
    "#\n"
   ]
  },
  {
   "cell_type": "markdown",
   "metadata": {},
   "source": [
    "## Prediction Part"
   ]
  },
  {
   "cell_type": "code",
   "execution_count": 7,
   "metadata": {
    "scrolled": true
   },
   "outputs": [
    {
     "name": "stdout",
     "output_type": "stream",
     "text": [
      "[[1. 0. 0. 0. 0.]\n",
      " [1. 0. 0. 0. 0.]\n",
      " [1. 0. 0. 0. 0.]\n",
      " ...\n",
      " [0. 0. 0. 0. 1.]\n",
      " [0. 0. 0. 0. 1.]\n",
      " [0. 0. 0. 0. 1.]] beklenen [[1. 0. 0. 0. 0.]\n",
      " [1. 0. 0. 0. 0.]\n",
      " [1. 0. 0. 0. 0.]\n",
      " ...\n",
      " [0. 0. 0. 0. 1.]\n",
      " [0. 0. 0. 0. 1.]\n",
      " [0. 0. 0. 0. 1.]]\n",
      "547\n",
      "547\n"
     ]
    }
   ],
   "source": [
    "model = load_model(\"thirdModelEpoch50\")\n",
    "DATADIR = \"C:\\\\Users\\\\fbalt\\\\Desktop\\\\FinalTeziGelistirme\\\\predictImages\"\n",
    "CATEGORIES = [\"testDog\",\"testCat\",\"testMotorbike\",\"testCar\",\"testPs\"]\n",
    "predictInputData = np.array([])\n",
    "predictResult = np.array([])\n",
    "predictOutput = np.ndarray(shape=(0,len(CATEGORIES)),dtype=int)\n",
    "img_size=184\n",
    "\n",
    "for category in CATEGORIES:\n",
    "    classNum = CATEGORIES.index(category)\n",
    "    out = np.zeros((1,len(CATEGORIES)))\n",
    "    out[0][classNum] = 1\n",
    "    path = os.path.join(DATADIR, category)\n",
    "    for img in os.scandir(path):\n",
    "        image = cv2.imread(os.path.join(path,img)) \n",
    "        newImg = cv2.resize(image,(img_size,img_size))\n",
    "        predictInputData = np.append(predictInputData,newImg)\n",
    "        predictOutput = np.append(predictOutput,out, axis=0)\n",
    "        \n",
    "\n",
    "        \n",
    "predictInputData=np.reshape(predictInputData,(-1,img_size,img_size,3))\n",
    "        \n",
    "np.save(\"testOutput\",predictOutput)\n",
    "np.save(\"testInputData\",predictInputData)\n",
    "\n",
    "\n",
    "\n",
    "p=model.predict(predictInputData)\n",
    "print(p ,\"beklenen\",predictOutput)\n",
    "print(len(p))\n",
    "print(len(predictOutput))\n",
    "np.set_printoptions(threshold=np.nan)"
   ]
  },
  {
   "cell_type": "markdown",
   "metadata": {},
   "source": [
    "## Tahmin Verilerinin Düzenlenmesi "
   ]
  },
  {
   "cell_type": "code",
   "execution_count": 22,
   "metadata": {
    "scrolled": true
   },
   "outputs": [
    {
     "name": "stdout",
     "output_type": "stream",
     "text": [
      "4\n"
     ]
    },
    {
     "ename": "AttributeError",
     "evalue": "'Sequential' object has no attribute 'history'",
     "output_type": "error",
     "traceback": [
      "\u001b[1;31m---------------------------------------------------------------------------\u001b[0m",
      "\u001b[1;31mAttributeError\u001b[0m                            Traceback (most recent call last)",
      "\u001b[1;32m<ipython-input-22-66111aabdcc9>\u001b[0m in \u001b[0;36m<module>\u001b[1;34m\u001b[0m\n\u001b[0;32m     16\u001b[0m \u001b[1;33m\u001b[0m\u001b[0m\n\u001b[0;32m     17\u001b[0m \u001b[0mprint\u001b[0m\u001b[1;33m(\u001b[0m\u001b[0mk\u001b[0m\u001b[1;33m)\u001b[0m\u001b[1;33m\u001b[0m\u001b[1;33m\u001b[0m\u001b[0m\n\u001b[1;32m---> 18\u001b[1;33m \u001b[0mtrain_loss\u001b[0m\u001b[1;33m=\u001b[0m\u001b[0mmodel\u001b[0m\u001b[1;33m.\u001b[0m\u001b[0mhistory\u001b[0m\u001b[1;33m[\u001b[0m\u001b[1;34m'loss'\u001b[0m\u001b[1;33m]\u001b[0m\u001b[1;33m\u001b[0m\u001b[1;33m\u001b[0m\u001b[0m\n\u001b[0m",
      "\u001b[1;31mAttributeError\u001b[0m: 'Sequential' object has no attribute 'history'"
     ]
    }
   ],
   "source": [
    "sonucPredictDuzenleme=[]\n",
    "beklenensonucDuzenleme=[]\n",
    "for i in range(len(p)):\n",
    "    for k in range(0,5):\n",
    "        if p[i][k] == 1:\n",
    "            sonucPredictDuzenleme.append(k)\n",
    "                 \n",
    "for c in range(0,4):\n",
    "    sonucPredictDuzenleme.append(4)\n",
    "          \n",
    "for m in range(len(p)):\n",
    "    for n in range(0,5):\n",
    "        if predictOutput[m][n] > 0:\n",
    "            beklenensonucDuzenleme.append(n)\n",
    "\n",
    "\n"
   ]
  },
  {
   "cell_type": "markdown",
   "metadata": {},
   "source": [
    "## Hata Matrisi"
   ]
  },
  {
   "cell_type": "code",
   "execution_count": 38,
   "metadata": {},
   "outputs": [],
   "source": [
    "import numpy as np\n",
    "#Analiz görselleştrime için;\n",
    "import matplotlib.pyplot as plt\n",
    "%matplotlib inline\n",
    "#analizler için\n",
    "from sklearn.metrics import confusion_matrix\n",
    "\n",
    "\n",
    "#confusion \n",
    "def plot_confusion_matrix(cm, cmap=plt.cm.Blues):\n",
    "    plt.imshow(cm, interpolation='nearest', cmap=cmap)\n",
    "    plt.title(\"Confusion Matrix\")\n",
    "    plt.colorbar()\n",
    "    tick_marks = np.arange(4)\n",
    "    plt.xticks(tick_marks, [0,1,2,3,4,5])\n",
    "    plt.yticks(tick_marks, [0,1,2,3,4,5])\n",
    "    plt.tight_layout()\n",
    "    plt.ylabel('Beklenen Değerler')\n",
    "    plt.xlabel('Tahmini Değerler')"
   ]
  },
  {
   "cell_type": "code",
   "execution_count": 40,
   "metadata": {},
   "outputs": [
    {
     "name": "stdout",
     "output_type": "stream",
     "text": [
      "[0, 0, 0, 0, 0, 0, 0, 0, 0, 0, 0, 0, 0, 0, 0, 0, 0, 0, 0, 0, 0, 0, 0, 0, 0, 0, 0, 0, 0, 0, 0, 0, 0, 0, 0, 0, 0, 0, 0, 0, 0, 0, 0, 0, 0, 0, 0, 0, 0, 0, 0, 0, 0, 0, 0, 0, 0, 0, 0, 0, 0, 0, 0, 0, 0, 0, 0, 0, 0, 0, 0, 0, 0, 0, 0, 0, 0, 0, 0, 0, 0, 0, 0, 0, 0, 0, 0, 0, 0, 0, 0, 0, 0, 0, 0, 0, 0, 0, 0, 0, 0, 0, 0, 0, 0, 0, 0, 0, 0, 0, 0, 0, 0, 0, 1, 1, 1, 1, 1, 1, 1, 1, 1, 1, 1, 1, 1, 1, 1, 1, 1, 1, 1, 1, 1, 1, 1, 1, 1, 1, 1, 1, 1, 1, 1, 1, 1, 1, 1, 1, 1, 1, 1, 1, 1, 1, 1, 1, 1, 1, 1, 1, 1, 1, 1, 1, 1, 1, 1, 1, 1, 1, 1, 1, 1, 1, 1, 1, 1, 1, 1, 1, 1, 1, 1, 1, 1, 1, 1, 1, 1, 1, 1, 1, 1, 1, 1, 1, 1, 1, 1, 1, 1, 1, 1, 1, 1, 1, 1, 1, 1, 2, 2, 2, 2, 2, 2, 2, 2, 2, 2, 2, 2, 2, 2, 2, 2, 2, 2, 2, 2, 2, 2, 2, 2, 2, 2, 2, 2, 2, 2, 2, 2, 2, 2, 2, 2, 2, 2, 2, 2, 2, 2, 2, 2, 2, 2, 2, 2, 2, 2, 2, 2, 2, 2, 2, 2, 2, 2, 2, 2, 2, 2, 2, 2, 2, 2, 2, 2, 2, 2, 2, 2, 2, 2, 2, 2, 2, 2, 2, 2, 2, 2, 2, 2, 2, 2, 2, 2, 2, 2, 2, 2, 2, 2, 2, 2, 2, 2, 2, 2, 2, 2, 2, 2, 2, 2, 2, 2, 2, 2, 2, 2, 2, 2, 2, 2, 2, 2, 2, 2, 2, 3, 3, 3, 3, 3, 3, 3, 3, 3, 3, 3, 3, 3, 3, 3, 3, 3, 3, 3, 3, 3, 3, 3, 3, 3, 3, 3, 3, 3, 3, 3, 3, 3, 3, 3, 3, 3, 3, 3, 3, 3, 3, 3, 3, 3, 3, 3, 3, 3, 3, 3, 3, 3, 3, 3, 3, 3, 3, 3, 3, 3, 3, 3, 3, 3, 3, 3, 3, 3, 3, 3, 3, 3, 3, 3, 3, 3, 3, 3, 3, 3, 3, 3, 3, 3, 3, 3, 3, 3, 3, 3, 3, 3, 4, 4, 4, 4, 4, 4, 4, 4, 4, 4, 4, 4, 4, 4, 4, 4, 4, 4, 4, 4, 4, 4, 4, 4, 4, 4, 4, 4, 4, 4, 4, 4, 4, 4, 4, 4, 4, 4, 4, 4, 4, 4, 4, 4, 4, 4, 4, 4, 4, 4, 4, 4, 4, 4, 4, 4, 4, 4, 4, 4, 4, 4, 4, 4, 4, 4, 4, 4, 4, 4, 4, 4, 4, 4, 4, 4, 4, 4, 4, 4, 4, 4, 4, 4, 4, 4, 4, 4, 4, 4, 4, 4, 4, 4, 4, 4, 4, 4, 4, 4, 4, 4, 4, 4, 4, 4, 4, 4, 4, 4, 4, 4, 4, 4, 4, 4, 4, 4, 4, 4, 4, 4]\n",
      "[0, 0, 0, 0, 0, 0, 0, 0, 0, 0, 0, 0, 0, 0, 0, 0, 0, 0, 0, 0, 0, 0, 0, 0, 0, 0, 0, 0, 0, 0, 0, 0, 0, 0, 0, 0, 0, 0, 0, 0, 0, 0, 0, 0, 0, 0, 0, 0, 0, 0, 0, 0, 0, 0, 0, 0, 0, 0, 0, 0, 0, 0, 0, 0, 0, 0, 0, 0, 0, 0, 0, 0, 0, 0, 0, 0, 0, 0, 0, 0, 0, 0, 0, 0, 0, 0, 0, 0, 0, 0, 0, 0, 0, 0, 0, 1, 1, 0, 0, 0, 0, 0, 4, 0, 0, 0, 0, 0, 0, 4, 0, 0, 1, 0, 0, 1, 0, 1, 1, 1, 1, 3, 0, 4, 1, 0, 1, 3, 1, 0, 0, 4, 1, 1, 4, 1, 0, 4, 1, 0, 3, 1, 4, 1, 0, 1, 1, 0, 1, 1, 0, 0, 4, 0, 1, 1, 1, 1, 0, 3, 1, 1, 0, 0, 1, 0, 0, 0, 1, 0, 0, 0, 2, 1, 0, 1, 1, 1, 0, 1, 1, 1, 1, 4, 1, 0, 0, 0, 0, 2, 0, 1, 0, 1, 0, 0, 0, 3, 1, 0, 1, 1, 0, 1, 1, 2, 1, 1, 2, 2, 2, 2, 2, 2, 2, 2, 2, 2, 2, 2, 2, 2, 2, 2, 2, 2, 2, 2, 2, 2, 2, 2, 2, 2, 2, 2, 2, 2, 2, 2, 2, 2, 2, 2, 2, 2, 2, 2, 2, 2, 2, 2, 2, 2, 2, 2, 2, 2, 2, 2, 2, 2, 2, 2, 2, 2, 2, 2, 2, 2, 2, 2, 2, 2, 2, 2, 2, 2, 2, 2, 2, 2, 2, 2, 2, 2, 2, 2, 2, 2, 2, 2, 2, 2, 2, 1, 2, 2, 2, 2, 2, 2, 2, 2, 2, 2, 2, 0, 2, 2, 2, 2, 2, 2, 2, 2, 2, 2, 2, 2, 2, 2, 2, 2, 2, 2, 2, 2, 2, 3, 3, 3, 3, 3, 3, 2, 4, 3, 3, 3, 3, 3, 0, 3, 3, 3, 3, 3, 3, 3, 3, 3, 3, 3, 3, 3, 3, 3, 3, 4, 3, 3, 3, 3, 3, 3, 3, 3, 3, 3, 3, 3, 3, 3, 3, 3, 2, 3, 3, 3, 3, 3, 3, 3, 3, 3, 3, 3, 3, 3, 3, 3, 3, 3, 3, 3, 3, 3, 3, 3, 3, 4, 2, 3, 3, 3, 3, 3, 3, 3, 3, 3, 3, 3, 3, 3, 3, 2, 3, 0, 3, 1, 4, 4, 4, 4, 4, 4, 4, 4, 4, 4, 4, 4, 4, 0, 4, 4, 4, 4, 4, 4, 4, 4, 4, 4, 4, 1, 4, 4, 4, 4, 4, 4, 4, 0, 4, 4, 4, 4, 4, 4, 4, 4, 4, 4, 4, 4, 4, 4, 4, 4, 4, 4, 4, 4, 4, 4, 4, 4, 0, 4, 4, 4, 4, 4, 4, 4, 4, 4, 4, 4, 1, 4, 4, 4, 4, 4, 4, 4, 4, 4, 4, 4, 4, 4, 4, 4, 4, 4, 4, 4, 4, 4, 0, 4, 4, 4, 4, 4, 4, 4, 4, 4, 4, 4, 4, 4, 4, 1, 4, 4, 4, 0, 4, 4, 4, 4, 4, 4, 4, 4, 4, 4, 4, 4, 4]\n"
     ]
    },
    {
     "data": {
      "image/png": "[encoded data removed]",
      "text/plain": [
       "<Figure size 720x720 with 2 Axes>"
      ]
     },
     "metadata": {
      "needs_background": "light"
     },
     "output_type": "display_data"
    }
   ],
   "source": [
    "print(beklenensonucDuzenleme)\n",
    "print(sonucPredictDuzenleme)\n",
    "from sklearn.metrics import confusion_matrix\n",
    "import seaborn as sns\n",
    "conf_mat = confusion_matrix(beklenensonucDuzenleme, sonucPredictDuzenleme)\n",
    "fig, ax = plt.subplots(figsize=(10,10))\n",
    "sns.heatmap(conf_mat, annot=True, fmt='d')\n",
    "plt.ylabel('Actual')\n",
    "plt.xlabel('Predicted')\n",
    "plt.show()\n"
   ]
  },
  {
   "cell_type": "markdown",
   "metadata": {},
   "source": [
    "### Kaynakça"
   ]
  },
  {
   "cell_type": "code",
   "execution_count": null,
   "metadata": {},
   "outputs": [],
   "source": []
  }
 ],
 "metadata": {
  "kernelspec": {
   "display_name": "Python 3",
   "language": "python",
   "name": "python3"
  },
  "language_info": {
   "codemirror_mode": {
    "name": "ipython",
    "version": 3
   },
   "file_extension": ".py",
   "mimetype": "text/x-python",
   "name": "python",
   "nbconvert_exporter": "python",
   "pygments_lexer": "ipython3",
   "version": "3.7.1"
  }
 },
 "nbformat": 4,
 "nbformat_minor": 2
}
